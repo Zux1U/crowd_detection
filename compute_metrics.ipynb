{
  "nbformat": 4,
  "nbformat_minor": 0,
  "metadata": {
    "colab": {
      "provenance": [],
      "gpuType": "T4"
    },
    "kernelspec": {
      "name": "python3",
      "display_name": "Python 3"
    },
    "language_info": {
      "name": "python"
    },
    "accelerator": "GPU"
  },
  "cells": [
    {
      "cell_type": "code",
      "source": [
        "!wget \"https://www.dropbox.com/scl/fi/0y8k4ykfrrcueiweubd2y/dataset.rar?rlkey=jpiywjldddul6pp1y7nv8fe3p&st=ht50ttsn&dl=0\" -O dataset.rar"
      ],
      "metadata": {
        "colab": {
          "base_uri": "https://localhost:8080/"
        },
        "id": "3unHIb1KMYR1",
        "outputId": "4e19c6b1-bdc0-4f93-d7fc-6f8dacee2478"
      },
      "execution_count": 1,
      "outputs": [
        {
          "output_type": "stream",
          "name": "stdout",
          "text": [
            "--2025-10-25 21:14:22--  https://www.dropbox.com/scl/fi/0y8k4ykfrrcueiweubd2y/dataset.rar?rlkey=jpiywjldddul6pp1y7nv8fe3p&st=ht50ttsn&dl=0\n",
            "Resolving www.dropbox.com (www.dropbox.com)... 162.125.1.18, 2620:100:6016:18::a27d:112\n",
            "Connecting to www.dropbox.com (www.dropbox.com)|162.125.1.18|:443... connected.\n",
            "HTTP request sent, awaiting response... 302 Found\n",
            "Location: https://uc45cf86f195be4f4ee170face9e.dl.dropboxusercontent.com/cd/0/inline/Cz6NCDxH_Ukeydhw4nF3E0pMVdojAjq1M_DQQgWB4PImz5f3ON9W1Pzs8KNEmtSu-r8ZhdfBNfI7g72HNuhrWNVGe6OeTuTb-TfzMWGVcwX5FQ5ZNwMxHSzS0x0KJPpTYmQ0RLlnPVbnL-IqmjGq1Bm2/file# [following]\n",
            "--2025-10-25 21:14:23--  https://uc45cf86f195be4f4ee170face9e.dl.dropboxusercontent.com/cd/0/inline/Cz6NCDxH_Ukeydhw4nF3E0pMVdojAjq1M_DQQgWB4PImz5f3ON9W1Pzs8KNEmtSu-r8ZhdfBNfI7g72HNuhrWNVGe6OeTuTb-TfzMWGVcwX5FQ5ZNwMxHSzS0x0KJPpTYmQ0RLlnPVbnL-IqmjGq1Bm2/file\n",
            "Resolving uc45cf86f195be4f4ee170face9e.dl.dropboxusercontent.com (uc45cf86f195be4f4ee170face9e.dl.dropboxusercontent.com)... 162.125.1.15, 2620:100:6016:15::a27d:10f\n",
            "Connecting to uc45cf86f195be4f4ee170face9e.dl.dropboxusercontent.com (uc45cf86f195be4f4ee170face9e.dl.dropboxusercontent.com)|162.125.1.15|:443... connected.\n",
            "HTTP request sent, awaiting response... 302 Found\n",
            "Location: /cd/0/inline2/Cz7oF8ErN5xXmJVlOUv96WbLOepm_DiTdYspd_vmD_BzntIrj7YZGuYIqCibsM6Zo20OMluPm1HrMomhYXFH31_9uAttNIbpmOFVXaeT7SzsZx-s4w6ipVbj36vuvRD2VZEFv0kkIEYAJc5scBMRCZYo_mPMvaGPOkdT7z3JLXMliyf6RKREjEchy5L3bQF2s6xd_73GWOUrIyZnIa29cF9TpA---S3-FXbn-HBGpReAV-y2m2MZufF3dCixKlErlWpeOlM12qt1vBjtG9LaIpolIn80g8b5CXxFvYjT_n_dTvoaHTsgQ2FDamOn4qN8hm8h9EljgfkW_xprbX8fmwTxWEkSEwupx5Dnz2LEGSFdADfExlYKIA-IlgvLiQePwrs/file [following]\n",
            "--2025-10-25 21:14:23--  https://uc45cf86f195be4f4ee170face9e.dl.dropboxusercontent.com/cd/0/inline2/Cz7oF8ErN5xXmJVlOUv96WbLOepm_DiTdYspd_vmD_BzntIrj7YZGuYIqCibsM6Zo20OMluPm1HrMomhYXFH31_9uAttNIbpmOFVXaeT7SzsZx-s4w6ipVbj36vuvRD2VZEFv0kkIEYAJc5scBMRCZYo_mPMvaGPOkdT7z3JLXMliyf6RKREjEchy5L3bQF2s6xd_73GWOUrIyZnIa29cF9TpA---S3-FXbn-HBGpReAV-y2m2MZufF3dCixKlErlWpeOlM12qt1vBjtG9LaIpolIn80g8b5CXxFvYjT_n_dTvoaHTsgQ2FDamOn4qN8hm8h9EljgfkW_xprbX8fmwTxWEkSEwupx5Dnz2LEGSFdADfExlYKIA-IlgvLiQePwrs/file\n",
            "Reusing existing connection to uc45cf86f195be4f4ee170face9e.dl.dropboxusercontent.com:443.\n",
            "HTTP request sent, awaiting response... 200 OK\n",
            "Length: 27010241 (26M) [application/rar]\n",
            "Saving to: ‘dataset.rar’\n",
            "\n",
            "dataset.rar         100%[===================>]  25.76M  30.1MB/s    in 0.9s    \n",
            "\n",
            "2025-10-25 21:14:25 (30.1 MB/s) - ‘dataset.rar’ saved [27010241/27010241]\n",
            "\n"
          ]
        }
      ]
    },
    {
      "cell_type": "code",
      "source": [
        "!unrar x '/content/dataset.rar'"
      ],
      "metadata": {
        "colab": {
          "base_uri": "https://localhost:8080/"
        },
        "id": "YBSh1tVxMlFw",
        "outputId": "c87e421c-6d09-45ce-a3c1-9ebe98ad9319"
      },
      "execution_count": 2,
      "outputs": [
        {
          "output_type": "stream",
          "name": "stdout",
          "text": [
            "\n",
            "UNRAR 6.11 beta 1 freeware      Copyright (c) 1993-2022 Alexander Roshal\n",
            "\n",
            "\n",
            "Extracting from /content/dataset.rar\n",
            "\n",
            "Creating    dataset                                                   OK\n",
            "Creating    dataset/content                                           OK\n",
            "Creating    dataset/content/dataset                                   OK\n",
            "Extracting  dataset/content/dataset/classes.txt                          \b\b\b\b  0%\b\b\b\b\b  OK \n",
            "Creating    dataset/content/dataset/images                            OK\n",
            "Extracting  dataset/content/dataset/images/frame_00000.jpg               \b\b\b\b  2%\b\b\b\b\b  OK \n",
            "Extracting  dataset/content/dataset/images/frame_00001.jpg               \b\b\b\b  5%\b\b\b\b\b  OK \n",
            "Extracting  dataset/content/dataset/images/frame_00002.jpg               \b\b\b\b  8%\b\b\b\b\b  OK \n",
            "Extracting  dataset/content/dataset/images/frame_00003.jpg               \b\b\b\b 10%\b\b\b\b\b  OK \n",
            "Extracting  dataset/content/dataset/images/frame_00004.jpg               \b\b\b\b 13%\b\b\b\b\b  OK \n",
            "Extracting  dataset/content/dataset/images/frame_00005.jpg               \b\b\b\b 16%\b\b\b\b\b  OK \n",
            "Extracting  dataset/content/dataset/images/frame_00006.jpg               \b\b\b\b 18%\b\b\b\b\b  OK \n",
            "Extracting  dataset/content/dataset/images/frame_00007.jpg               \b\b\b\b 21%\b\b\b\b\b  OK \n",
            "Extracting  dataset/content/dataset/images/frame_00008.jpg               \b\b\b\b 24%\b\b\b\b\b  OK \n",
            "Extracting  dataset/content/dataset/images/frame_00009.jpg               \b\b\b\b 26%\b\b\b\b\b  OK \n",
            "Extracting  dataset/content/dataset/images/frame_00100.jpg               \b\b\b\b 29%\b\b\b\b\b  OK \n",
            "Extracting  dataset/content/dataset/images/frame_00101.jpg               \b\b\b\b 32%\b\b\b\b\b  OK \n",
            "Extracting  dataset/content/dataset/images/frame_00102.jpg               \b\b\b\b 34%\b\b\b\b\b  OK \n",
            "Extracting  dataset/content/dataset/images/frame_00103.jpg               \b\b\b\b 37%\b\b\b\b\b  OK \n",
            "Extracting  dataset/content/dataset/images/frame_00104.jpg               \b\b\b\b 40%\b\b\b\b\b  OK \n",
            "Extracting  dataset/content/dataset/images/frame_00105.jpg               \b\b\b\b 43%\b\b\b\b\b  OK \n",
            "Extracting  dataset/content/dataset/images/frame_00106.jpg               \b\b\b\b 45%\b\b\b\b\b  OK \n",
            "Extracting  dataset/content/dataset/images/frame_00107.jpg               \b\b\b\b 48%\b\b\b\b\b  OK \n",
            "Extracting  dataset/content/dataset/images/frame_00108.jpg               \b\b\b\b 51%\b\b\b\b\b  OK \n",
            "Extracting  dataset/content/dataset/images/frame_00109.jpg               \b\b\b\b 53%\b\b\b\b\b  OK \n",
            "Extracting  dataset/content/dataset/images/frame_00200.jpg               \b\b\b\b 56%\b\b\b\b\b  OK \n",
            "Extracting  dataset/content/dataset/images/frame_00201.jpg               \b\b\b\b 58%\b\b\b\b\b  OK \n",
            "Extracting  dataset/content/dataset/images/frame_00202.jpg               \b\b\b\b 61%\b\b\b\b\b  OK \n",
            "Extracting  dataset/content/dataset/images/frame_00203.jpg               \b\b\b\b 64%\b\b\b\b\b  OK \n",
            "Extracting  dataset/content/dataset/images/frame_00204.jpg               \b\b\b\b 66%\b\b\b\b\b  OK \n",
            "Extracting  dataset/content/dataset/images/frame_00300.jpg               \b\b\b\b 68%\b\b\b\b\b  OK \n",
            "Extracting  dataset/content/dataset/images/frame_00301.jpg               \b\b\b\b 70%\b\b\b\b\b  OK \n",
            "Extracting  dataset/content/dataset/images/frame_00302.jpg               \b\b\b\b 72%\b\b\b\b\b  OK \n",
            "Extracting  dataset/content/dataset/images/frame_00303.jpg               \b\b\b\b 74%\b\b\b\b\b  OK \n",
            "Extracting  dataset/content/dataset/images/frame_00304.jpg               \b\b\b\b 76%\b\b\b\b\b  OK \n",
            "Extracting  dataset/content/dataset/images/frame_00400.jpg               \b\b\b\b 78%\b\b\b\b\b  OK \n",
            "Extracting  dataset/content/dataset/images/frame_00401.jpg               \b\b\b\b 81%\b\b\b\b\b  OK \n",
            "Extracting  dataset/content/dataset/images/frame_00402.jpg               \b\b\b\b 83%\b\b\b\b\b  OK \n",
            "Extracting  dataset/content/dataset/images/frame_00403.jpg               \b\b\b\b 85%\b\b\b\b\b  OK \n",
            "Extracting  dataset/content/dataset/images/frame_00404.jpg               \b\b\b\b 88%\b\b\b\b\b  OK \n",
            "Extracting  dataset/content/dataset/images/frame_00500.jpg               \b\b\b\b 90%\b\b\b\b\b  OK \n",
            "Extracting  dataset/content/dataset/images/frame_00501.jpg               \b\b\b\b 92%\b\b\b\b\b  OK \n",
            "Extracting  dataset/content/dataset/images/frame_00502.jpg               \b\b\b\b 95%\b\b\b\b\b  OK \n",
            "Extracting  dataset/content/dataset/images/frame_00503.jpg               \b\b\b\b 97%\b\b\b\b\b  OK \n",
            "Extracting  dataset/content/dataset/images/frame_00504.jpg               \b\b\b\b 99%\b\b\b\b\b  OK \n",
            "Creating    dataset/content/dataset/labels_sync                       OK\n",
            "Extracting  dataset/content/dataset/labels_sync/frame_00000.txt          \b\b\b\b 99%\b\b\b\b\b  OK \n",
            "Extracting  dataset/content/dataset/labels_sync/frame_00001.txt          \b\b\b\b 99%\b\b\b\b\b  OK \n",
            "Extracting  dataset/content/dataset/labels_sync/frame_00002.txt          \b\b\b\b 99%\b\b\b\b\b  OK \n",
            "Extracting  dataset/content/dataset/labels_sync/frame_00003.txt          \b\b\b\b 99%\b\b\b\b\b  OK \n",
            "Extracting  dataset/content/dataset/labels_sync/frame_00004.txt          \b\b\b\b 99%\b\b\b\b\b  OK \n",
            "Extracting  dataset/content/dataset/labels_sync/frame_00005.txt          \b\b\b\b 99%\b\b\b\b\b  OK \n",
            "Extracting  dataset/content/dataset/labels_sync/frame_00006.txt          \b\b\b\b 99%\b\b\b\b\b  OK \n",
            "Extracting  dataset/content/dataset/labels_sync/frame_00007.txt          \b\b\b\b 99%\b\b\b\b\b  OK \n",
            "Extracting  dataset/content/dataset/labels_sync/frame_00008.txt          \b\b\b\b 99%\b\b\b\b\b  OK \n",
            "Extracting  dataset/content/dataset/labels_sync/frame_00009.txt          \b\b\b\b 99%\b\b\b\b\b  OK \n",
            "Extracting  dataset/content/dataset/labels_sync/frame_00100.txt          \b\b\b\b 99%\b\b\b\b\b  OK \n",
            "Extracting  dataset/content/dataset/labels_sync/frame_00101.txt          \b\b\b\b 99%\b\b\b\b\b  OK \n",
            "Extracting  dataset/content/dataset/labels_sync/frame_00102.txt          \b\b\b\b 99%\b\b\b\b\b  OK \n",
            "Extracting  dataset/content/dataset/labels_sync/frame_00103.txt          \b\b\b\b 99%\b\b\b\b\b  OK \n",
            "Extracting  dataset/content/dataset/labels_sync/frame_00104.txt          \b\b\b\b 99%\b\b\b\b\b  OK \n",
            "Extracting  dataset/content/dataset/labels_sync/frame_00105.txt          \b\b\b\b 99%\b\b\b\b\b  OK \n",
            "Extracting  dataset/content/dataset/labels_sync/frame_00106.txt          \b\b\b\b 99%\b\b\b\b\b  OK \n",
            "Extracting  dataset/content/dataset/labels_sync/frame_00107.txt          \b\b\b\b 99%\b\b\b\b\b  OK \n",
            "Extracting  dataset/content/dataset/labels_sync/frame_00108.txt          \b\b\b\b 99%\b\b\b\b\b  OK \n",
            "Extracting  dataset/content/dataset/labels_sync/frame_00109.txt          \b\b\b\b 99%\b\b\b\b\b  OK \n",
            "Extracting  dataset/content/dataset/labels_sync/frame_00200.txt          \b\b\b\b 99%\b\b\b\b\b  OK \n",
            "Extracting  dataset/content/dataset/labels_sync/frame_00201.txt          \b\b\b\b 99%\b\b\b\b\b  OK \n",
            "Extracting  dataset/content/dataset/labels_sync/frame_00202.txt          \b\b\b\b 99%\b\b\b\b\b  OK \n",
            "Extracting  dataset/content/dataset/labels_sync/frame_00203.txt          \b\b\b\b 99%\b\b\b\b\b  OK \n",
            "Extracting  dataset/content/dataset/labels_sync/frame_00204.txt          \b\b\b\b 99%\b\b\b\b\b  OK \n",
            "Extracting  dataset/content/dataset/labels_sync/frame_00300.txt          \b\b\b\b 99%\b\b\b\b\b  OK \n",
            "Extracting  dataset/content/dataset/labels_sync/frame_00301.txt          \b\b\b\b 99%\b\b\b\b\b  OK \n",
            "Extracting  dataset/content/dataset/labels_sync/frame_00302.txt          \b\b\b\b 99%\b\b\b\b\b  OK \n",
            "Extracting  dataset/content/dataset/labels_sync/frame_00303.txt          \b\b\b\b 99%\b\b\b\b\b  OK \n",
            "Extracting  dataset/content/dataset/labels_sync/frame_00304.txt          \b\b\b\b 99%\b\b\b\b\b  OK \n",
            "Extracting  dataset/content/dataset/labels_sync/frame_00400.txt          \b\b\b\b 99%\b\b\b\b\b  OK \n",
            "Extracting  dataset/content/dataset/labels_sync/frame_00401.txt          \b\b\b\b 99%\b\b\b\b\b  OK \n",
            "Extracting  dataset/content/dataset/labels_sync/frame_00402.txt          \b\b\b\b 99%\b\b\b\b\b  OK \n",
            "Extracting  dataset/content/dataset/labels_sync/frame_00403.txt          \b\b\b\b 99%\b\b\b\b\b  OK \n",
            "Extracting  dataset/content/dataset/labels_sync/frame_00404.txt          \b\b\b\b 99%\b\b\b\b\b  OK \n",
            "Extracting  dataset/content/dataset/labels_sync/frame_00500.txt          \b\b\b\b 99%\b\b\b\b\b  OK \n",
            "Extracting  dataset/content/dataset/labels_sync/frame_00501.txt          \b\b\b\b 99%\b\b\b\b\b  OK \n",
            "Extracting  dataset/content/dataset/labels_sync/frame_00502.txt          \b\b\b\b 99%\b\b\b\b\b  OK \n",
            "Extracting  dataset/content/dataset/labels_sync/frame_00503.txt          \b\b\b\b 99%\b\b\b\b\b  OK \n",
            "Extracting  dataset/content/dataset/labels_sync/frame_00504.txt          \b\b\b\b 99%\b\b\b\b\b  OK \n",
            "Extracting  dataset/content/dataset/notes.json                           \b\b\b\b 99%\b\b\b\b\b  OK \n",
            "All OK\n"
          ]
        }
      ]
    },
    {
      "cell_type": "code",
      "source": [
        "import torch, cv2, os, sys\n",
        "device = \"cuda\" if torch.cuda.is_available() else \"cpu\"\n",
        "device"
      ],
      "metadata": {
        "colab": {
          "base_uri": "https://localhost:8080/",
          "height": 35
        },
        "id": "f3BB59pU6keE",
        "outputId": "325d1c45-33f7-4490-8023-05e000959ee3"
      },
      "execution_count": 3,
      "outputs": [
        {
          "output_type": "execute_result",
          "data": {
            "text/plain": [
              "'cuda'"
            ],
            "application/vnd.google.colaboratory.intrinsic+json": {
              "type": "string"
            }
          },
          "metadata": {},
          "execution_count": 3
        }
      ]
    },
    {
      "cell_type": "code",
      "source": [
        "!pip -q install ultralytics opencv-python numpy lap scikit-image"
      ],
      "metadata": {
        "id": "FI7Q53zibkIx",
        "colab": {
          "base_uri": "https://localhost:8080/"
        },
        "outputId": "073647d8-afd5-4291-92f2-5d329c0113bf"
      },
      "execution_count": 4,
      "outputs": [
        {
          "output_type": "stream",
          "name": "stdout",
          "text": [
            "\u001b[?25l   \u001b[90m━━━━━━━━━━━━━━━━━━━━━━━━━━━━━━━━━━━━━━━━\u001b[0m \u001b[32m0.0/1.1 MB\u001b[0m \u001b[31m?\u001b[0m eta \u001b[36m-:--:--\u001b[0m\r\u001b[2K   \u001b[91m━━━━━━━━━━━━━━━━━━━━━━━━━━━━━━━━━━━━━━━\u001b[0m\u001b[91m╸\u001b[0m \u001b[32m1.1/1.1 MB\u001b[0m \u001b[31m40.5 MB/s\u001b[0m eta \u001b[36m0:00:01\u001b[0m\r\u001b[2K   \u001b[90m━━━━━━━━━━━━━━━━━━━━━━━━━━━━━━━━━━━━━━━━\u001b[0m \u001b[32m1.1/1.1 MB\u001b[0m \u001b[31m23.5 MB/s\u001b[0m eta \u001b[36m0:00:00\u001b[0m\n",
            "\u001b[?25h\u001b[?25l   \u001b[90m━━━━━━━━━━━━━━━━━━━━━━━━━━━━━━━━━━━━━━━━\u001b[0m \u001b[32m0.0/1.7 MB\u001b[0m \u001b[31m?\u001b[0m eta \u001b[36m-:--:--\u001b[0m\r\u001b[2K   \u001b[90m━━━━━━━━━━━━━━━━━━━━━━━━━━━━━━━━━━━━━━━━\u001b[0m \u001b[32m1.7/1.7 MB\u001b[0m \u001b[31m66.2 MB/s\u001b[0m eta \u001b[36m0:00:00\u001b[0m\n",
            "\u001b[?25h"
          ]
        }
      ]
    },
    {
      "cell_type": "code",
      "source": [
        "import cv2, time, numpy as np, os\n",
        "from collections import deque, defaultdict\n",
        "from ultralytics import YOLO\n",
        "from IPython.display import clear_output\n",
        "from google.colab.patches import cv2_imshow\n",
        "import glob"
      ],
      "metadata": {
        "id": "d4dnKzlRsAth",
        "colab": {
          "base_uri": "https://localhost:8080/"
        },
        "outputId": "821107a5-7b41-43c7-efc5-04006740f6a8"
      },
      "execution_count": 5,
      "outputs": [
        {
          "output_type": "stream",
          "name": "stdout",
          "text": [
            "Creating new Ultralytics Settings v0.0.6 file ✅ \n",
            "View Ultralytics Settings with 'yolo settings' or at '/root/.config/Ultralytics/settings.json'\n",
            "Update Settings with 'yolo settings key=value', i.e. 'yolo settings runs_dir=path/to/dir'. For help see https://docs.ultralytics.com/quickstart/#ultralytics-settings.\n"
          ]
        }
      ]
    },
    {
      "cell_type": "code",
      "source": [
        "def draw_corner_box(img, x1, y1, x2, y2, color_box=(0,255,0), color_corners=(255,0,0), t=2, corner=14):\n",
        "    cv2.rectangle(img, (x1,y1), (x2,y2), color_box, t)\n",
        "    cv2.line(img,(x1,y1),(x1+corner,y1),color_corners,t); cv2.line(img,(x1,y1),(x1,y1+corner),color_corners,t)\n",
        "    cv2.line(img,(x2,y1),(x2-corner,y1),color_corners,t); cv2.line(img,(x2,y1),(x2,y1+corner),color_corners,t)\n",
        "    cv2.line(img,(x1,y2),(x1+corner,y2),color_corners,t); cv2.line(img,(x1,y2),(x1,y2-corner),color_corners,t)\n",
        "    cv2.line(img,(x2,y2),(x2-corner,y2),color_corners,t); cv2.line(img,(x2,y2),(x2,y2-corner),color_corners,t)\n",
        "\n",
        "def yolo_txt_to_boxes(txt_path, img_w, img_h):\n",
        "    \"\"\"Читает YOLO .txt и возвращает список боксов [x1,y1,x2,y2] для class==0.\"\"\"\n",
        "    boxes = []\n",
        "    if not os.path.exists(txt_path):\n",
        "        return boxes\n",
        "    with open(txt_path, \"r\", encoding=\"utf-8\") as f:\n",
        "        for line in f:\n",
        "            parts = line.strip().split()\n",
        "            if len(parts) != 5:\n",
        "                continue\n",
        "            cls, xc, yc, w, h = parts\n",
        "            if int(float(cls)) != 0:\n",
        "                continue\n",
        "            xc, yc, w, h = map(float, (xc, yc, w, h))\n",
        "            x1 = (xc - w/2.0) * img_w\n",
        "            y1 = (yc - h/2.0) * img_h\n",
        "            x2 = (xc + w/2.0) * img_w\n",
        "            y2 = (yc + h/2.0) * img_h\n",
        "            boxes.append([x1, y1, x2, y2])\n",
        "    return boxes\n",
        "\n",
        "def iou_xyxy(a, b):\n",
        "    ax1, ay1, ax2, ay2 = a\n",
        "    bx1, by1, bx2, by2 = b\n",
        "    ix1, iy1 = max(ax1, bx1), max(ay1, by1)\n",
        "    ix2, iy2 = min(ax2, bx2), min(ay2, by2)\n",
        "    iw, ih = max(0.0, ix2-ix1), max(0.0, iy2-iy1)\n",
        "    inter = iw*ih\n",
        "    area_a = max(0.0, ax2-ax1)*max(0.0, ay2-ay1)\n",
        "    area_b = max(0.0, bx2-bx1)*max(0.0, by2-by1)\n",
        "    denom = area_a + area_b - inter + 1e-9\n",
        "    return inter/denom\n",
        "\n",
        "def greedy_match(pred_boxes, gt_boxes, iou_thr=0.5):\n",
        "    \"\"\"Жадное сопоставление предсказаний с GT по IoU, возвращает TP, FP, FN и пары индексов.\"\"\"\n",
        "    matched_gt = set()\n",
        "    tp = 0\n",
        "    matches = []\n",
        "    for pi, pb in enumerate(pred_boxes):\n",
        "        best_j, best_iou = -1, 0.0\n",
        "        for gj, gb in enumerate(gt_boxes):\n",
        "            if gj in matched_gt:\n",
        "                continue\n",
        "            iou = iou_xyxy(pb, gb)\n",
        "            if iou > best_iou:\n",
        "                best_iou, best_j = iou, gj\n",
        "        if best_iou >= iou_thr and best_j >= 0:\n",
        "            matched_gt.add(best_j)\n",
        "            tp += 1\n",
        "            matches.append((pi, best_j))\n",
        "    fp = len(pred_boxes) - tp\n",
        "    fn = len(gt_boxes) - tp\n",
        "    return tp, fp, fn, matches\n",
        "\n",
        "def run_images_and_metrics(\n",
        "    images_dir=\"images\",\n",
        "    labels_dir=\"labels\",\n",
        "    output_dir=\"pred_vis\",\n",
        "    model_name=\"yolov8l.pt\",\n",
        "    conf=0.45,\n",
        "    imgsz=896,\n",
        "    limit=5,\n",
        "    iou_match=0.5\n",
        "):\n",
        "    os.makedirs(output_dir, exist_ok=True)\n",
        "    model = YOLO(model_name)\n",
        "\n",
        "    exts = (\"*.jpg\",\"*.jpeg\",\"*.png\",\"*.bmp\")\n",
        "    img_list = []\n",
        "    for ext in exts:\n",
        "        img_list.extend(glob.glob(os.path.join(images_dir, ext)))\n",
        "    img_list = sorted(img_list)[:limit]\n",
        "    if not img_list:\n",
        "        raise RuntimeError(f\"В {images_dir} не найдено изображений.\")\n",
        "\n",
        "    total_tp = total_fp = total_fn = 0\n",
        "\n",
        "    for img_path in img_list:\n",
        "        img = cv2.imread(img_path)\n",
        "        if img is None:\n",
        "            print(f\"Пропуск: не удалось прочитать {img_path}\")\n",
        "            continue\n",
        "        H, W = img.shape[:2]\n",
        "        stem = os.path.splitext(os.path.basename(img_path))[0]\n",
        "        gt_path = os.path.join(labels_dir, f\"{stem}.txt\")\n",
        "        gt_boxes = yolo_txt_to_boxes(gt_path, W, H)\n",
        "\n",
        "        res = model.predict(img, imgsz=imgsz, conf=conf, iou=0.5, classes=[0], verbose=False)[0]\n",
        "\n",
        "        pred_boxes = []\n",
        "        pred_scores = []\n",
        "        if res.boxes is not None and res.boxes.xyxy is not None:\n",
        "            xyxy = res.boxes.xyxy.cpu().numpy()\n",
        "            confs = res.boxes.conf.cpu().numpy() if res.boxes.conf is not None else np.ones((xyxy.shape[0],), dtype=float)\n",
        "            if getattr(res.boxes, \"cls\", None) is not None:\n",
        "                cls = res.boxes.cls.cpu().numpy().astype(int)\n",
        "                keep = (cls == 0)\n",
        "                xyxy = xyxy[keep]; confs = confs[keep]\n",
        "            order = np.argsort(-confs)\n",
        "            xyxy = xyxy[order]; confs = confs[order]\n",
        "            pred_boxes = xyxy.tolist()\n",
        "            pred_scores = confs.tolist()\n",
        "\n",
        "        tp, fp, fn, matches = greedy_match(pred_boxes, gt_boxes, iou_thr=iou_match)\n",
        "        total_tp += tp; total_fp += fp; total_fn += fn\n",
        "\n",
        "        vis = img.copy()\n",
        "        for x1,y1,x2,y2 in gt_boxes:\n",
        "            draw_corner_box(vis, int(x1),int(y1),int(x2),int(y2), color_box=(255,0,0), color_corners=(255,0,0), t=2, corner=10)\n",
        "        for k,(x1,y1,x2,y2) in enumerate(pred_boxes):\n",
        "            draw_corner_box(vis, int(x1),int(y1),int(x2),int(y2), color_box=(0,255,0), color_corners=(0,255,0), t=2, corner=10)\n",
        "            if k < len(pred_scores):\n",
        "                s = pred_scores[k]\n",
        "                label = f\"{s*100:.1f}%\"\n",
        "                (tw, th), _ = cv2.getTextSize(label, cv2.FONT_HERSHEY_SIMPLEX, 0.5, 2)\n",
        "                cv2.rectangle(vis, (int(x1), int(y1)-th-6), (int(x1)+tw+6, int(y1)), (0,0,0), -1)\n",
        "                cv2.putText(vis, label, (int(x1)+3, int(y1)-4), cv2.FONT_HERSHEY_SIMPLEX, 0.5, (255,255,255), 2)\n",
        "\n",
        "        cv2.putText(vis, f\"TP:{tp} FP:{fp} FN:{fn}\", (12, 28), cv2.FONT_HERSHEY_SIMPLEX, 0.8, (0,0,0), 3, cv2.LINE_AA)\n",
        "        cv2.putText(vis, f\"TP:{tp} FP:{fp} FN:{fn}\", (12, 28), cv2.FONT_HERSHEY_SIMPLEX, 0.8, (255,255,255), 2, cv2.LINE_AA)\n",
        "\n",
        "        out_path = os.path.join(output_dir, f\"{stem}_pred.jpg\")\n",
        "        cv2.imwrite(out_path, vis)\n",
        "\n",
        "    precision = total_tp / (total_tp + total_fp) if (total_tp + total_fp) > 0 else 0.0\n",
        "    recall    = total_tp / (total_tp + total_fn) if (total_tp + total_fn) > 0 else 0.0\n",
        "    f1        = 2*precision*recall / (precision+recall) if (precision+recall) > 0 else 0.0\n",
        "\n",
        "    print(f\"[Aggregate @IoU={iou_match:.2f}]  TP={total_tp}  FP={total_fp}  FN={total_fn}\")\n",
        "    print(f\"Precision={precision:.4f}  Recall={recall:.4f}  F1={f1:.4f}\")\n",
        "\n",
        "    return {\"TP\": total_tp, \"FP\": total_fp, \"FN\": total_fn,\n",
        "            \"precision\": precision, \"recall\": recall, \"f1\": f1}"
      ],
      "metadata": {
        "id": "crYdkJz9w6Ts"
      },
      "execution_count": 6,
      "outputs": []
    },
    {
      "cell_type": "code",
      "source": [
        "for conf in [0.05, 0.10, 0.15, 0.20, 0.30, 0.45, 0.5, 0.55, 0.6, 0.7]:\n",
        "    m = run_images_and_metrics(\n",
        "        images_dir=\"/content/dataset/content/dataset/images\",\n",
        "        labels_dir=\"/content/dataset/content/dataset/labels_sync\",\n",
        "        output_dir=\"pred_vis\",\n",
        "        model_name=\"yolov8l.pt\",\n",
        "        conf=conf,\n",
        "        imgsz=896,\n",
        "        limit=40,\n",
        "        iou_match=0.5\n",
        "    )\n",
        "    print(f\"conf={conf:.2f} → P={m['precision']:.3f} R={m['recall']:.3f} F1={m['f1']:.3f}\")"
      ],
      "metadata": {
        "colab": {
          "base_uri": "https://localhost:8080/"
        },
        "id": "lzKYHZbY0knu",
        "outputId": "fb9568d8-4ce3-43ba-a801-13993a8b6be8"
      },
      "execution_count": 7,
      "outputs": [
        {
          "output_type": "stream",
          "name": "stdout",
          "text": [
            "\u001b[KDownloading https://github.com/ultralytics/assets/releases/download/v8.3.0/yolov8l.pt to 'yolov8l.pt': 100% ━━━━━━━━━━━━ 83.7MB 298.8MB/s 0.3s\n",
            "[Aggregate @IoU=0.50]  TP=499  FP=713  FN=287\n",
            "Precision=0.4117  Recall=0.6349  F1=0.4995\n",
            "conf=0.05 → P=0.412 R=0.635 F1=0.499\n",
            "[Aggregate @IoU=0.50]  TP=495  FP=430  FN=291\n",
            "Precision=0.5351  Recall=0.6298  F1=0.5786\n",
            "conf=0.10 → P=0.535 R=0.630 F1=0.579\n",
            "[Aggregate @IoU=0.50]  TP=492  FP=253  FN=294\n",
            "Precision=0.6604  Recall=0.6260  F1=0.6427\n",
            "conf=0.15 → P=0.660 R=0.626 F1=0.643\n",
            "[Aggregate @IoU=0.50]  TP=488  FP=153  FN=298\n",
            "Precision=0.7613  Recall=0.6209  F1=0.6840\n",
            "conf=0.20 → P=0.761 R=0.621 F1=0.684\n",
            "[Aggregate @IoU=0.50]  TP=472  FP=83  FN=314\n",
            "Precision=0.8505  Recall=0.6005  F1=0.7040\n",
            "conf=0.30 → P=0.850 R=0.601 F1=0.704\n",
            "[Aggregate @IoU=0.50]  TP=406  FP=33  FN=380\n",
            "Precision=0.9248  Recall=0.5165  F1=0.6629\n",
            "conf=0.45 → P=0.925 R=0.517 F1=0.663\n",
            "[Aggregate @IoU=0.50]  TP=391  FP=25  FN=395\n",
            "Precision=0.9399  Recall=0.4975  F1=0.6506\n",
            "conf=0.50 → P=0.940 R=0.497 F1=0.651\n",
            "[Aggregate @IoU=0.50]  TP=368  FP=19  FN=418\n",
            "Precision=0.9509  Recall=0.4682  F1=0.6275\n",
            "conf=0.55 → P=0.951 R=0.468 F1=0.627\n",
            "[Aggregate @IoU=0.50]  TP=323  FP=15  FN=463\n",
            "Precision=0.9556  Recall=0.4109  F1=0.5747\n",
            "conf=0.60 → P=0.956 R=0.411 F1=0.575\n",
            "[Aggregate @IoU=0.50]  TP=264  FP=11  FN=522\n",
            "Precision=0.9600  Recall=0.3359  F1=0.4976\n",
            "conf=0.70 → P=0.960 R=0.336 F1=0.498\n"
          ]
        }
      ]
    }
  ]
}